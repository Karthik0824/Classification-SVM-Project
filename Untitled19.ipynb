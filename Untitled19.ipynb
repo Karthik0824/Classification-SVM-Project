{
 "cells": [
  {
   "cell_type": "code",
   "execution_count": 1,
   "id": "2296b6c1",
   "metadata": {},
   "outputs": [],
   "source": [
    "#Team Members\n",
    "#Naga Goutham Nidumukkala - 101177048\n",
    "#Amarendra Kadamabala - 101165387\n",
    "#Venkat karthik Poreddy - 101167776\n",
    "#Yeswanth Ravi Sandu - 101165785\n",
    "\n"
   ]
  },
  {
   "cell_type": "code",
   "execution_count": 2,
   "id": "1fea8cfe",
   "metadata": {},
   "outputs": [],
   "source": [
    "# Importing necessary libraries\n",
    "from sklearn import datasets\n",
    "import pandas as pd\n",
    "from sklearn.preprocessing import StandardScaler\n",
    "from sklearn.model_selection import train_test_split, GridSearchCV, cross_val_score, KFold\n",
    "from sklearn.svm import SVC\n",
    "from sklearn.metrics import accuracy_score, precision_score, recall_score, f1_score, classification_report, confusion_matrix\n",
    "import seaborn as sns\n",
    "import matplotlib.pyplot as plt\n",
    "import numpy as np\n",
    "\n",
    "# Step 1: Loading the Iris dataset\n",
    "iris = datasets.load_iris()\n"
   ]
  },
  {
   "cell_type": "code",
   "execution_count": 3,
   "id": "bb01552a",
   "metadata": {},
   "outputs": [],
   "source": [
    "# Step 2: Converting the dataset into a pandas DataFrame for easier manipulation\n",
    "iris_df = pd.DataFrame(data=iris.data, columns=iris.feature_names)\n",
    "\n",
    "# Adding the target variable to the DataFrame\n",
    "iris_df['species'] = iris.target"
   ]
  },
  {
   "cell_type": "code",
   "execution_count": 4,
   "id": "d9040f30",
   "metadata": {},
   "outputs": [
    {
     "name": "stdout",
     "output_type": "stream",
     "text": [
      "Checking for missing values:\n",
      "sepal length (cm)    0\n",
      "sepal width (cm)     0\n",
      "petal length (cm)    0\n",
      "petal width (cm)     0\n",
      "species              0\n",
      "dtype: int64\n"
     ]
    }
   ],
   "source": [
    "# Step 3: Data preprocessing\n",
    "# Checking for missing values\n",
    "print(\"Checking for missing values:\")\n",
    "print(iris_df.isnull().sum())"
   ]
  },
  {
   "cell_type": "code",
   "execution_count": 5,
   "id": "dc443696",
   "metadata": {},
   "outputs": [],
   "source": [
    "# Scaling the features\n",
    "scaler = StandardScaler()\n",
    "scaled_features = scaler.fit_transform(iris_df.drop('species', axis=1))\n",
    "\n",
    "# Splitting the dataset into train and test sets\n",
    "X_train, X_test, y_train, y_test = train_test_split(scaled_features, iris_df['species'], test_size=0.2, random_state=42)\n"
   ]
  },
  {
   "cell_type": "code",
   "execution_count": 6,
   "id": "e8325926",
   "metadata": {},
   "outputs": [],
   "source": [
    "#Observations and comments:\n",
    "#1.The Iris dataset is loaded using the datasets.load_iris() function from scikit-learn.\n",
    "#2. It includes characteristics pertaining to the target variable species as well as size of the petals and sepals.\n",
    "#3. The dataset has no missing values, guaranteeing the accuracy of the data. \n",
    "#4. To standardize features and improve model performance, StandardScaler() is used. \n",
    "#5. An 80-20 split ratio is used to separate the dataset into training and testing sets.\n"
   ]
  },
  {
   "cell_type": "code",
   "execution_count": 7,
   "id": "dc52545b",
   "metadata": {},
   "outputs": [],
   "source": [
    "# Step 4: SVM Model Configuration\n",
    "# Defining the SVM classifier\n",
    "svm_classifier = SVC()\n",
    "\n",
    "# Defining a dictionary of hyperparameters to search\n",
    "param_grid = {\n",
    "    'C': [0.1, 1, 10, 100],  # Regularization parameter\n",
    "    'kernel': ['linear', 'poly', 'rbf', 'sigmoid'],  # Kernel type\n",
    "    'gamma': ['scale', 'auto'],  # Kernel coefficient for 'rbf', 'poly', and 'sigmoid'\n",
    "    'degree': [2, 3, 4],  # Degree of the polynomial kernel\n",
    "}"
   ]
  },
  {
   "cell_type": "code",
   "execution_count": 8,
   "id": "469c5636",
   "metadata": {},
   "outputs": [],
   "source": [
    "#Observations and Comments:\n",
    "#1. The scikit-learn SVC() function is used to implement the Support Vector Machine (SVM) classifier. \n",
    "#2. GridSearchCV is used to do a grid search to determine the ideal set of hyperparameters. \n",
    "#3. The hyperparameters consist of degree, gamma, kernel, and C.\n"
   ]
  },
  {
   "cell_type": "code",
   "execution_count": 9,
   "id": "298cb022",
   "metadata": {},
   "outputs": [
    {
     "name": "stdout",
     "output_type": "stream",
     "text": [
      "Cross-validation scores: [0.91666667 1.         0.91666667 0.91666667 1.        ]\n",
      "\n",
      "Mean cross-validation accuracy: 0.95\n"
     ]
    }
   ],
   "source": [
    "# Step 5: Cross-validation procedure\n",
    "# Define the number of folds for cross-validation\n",
    "k = 5\n",
    "\n",
    "# Define the KFold object with shuffling enabled\n",
    "kf = KFold(n_splits=k, shuffle=True, random_state=42)\n",
    "\n",
    "# Perform cross-validation\n",
    "cv_scores = cross_val_score(svm_classifier, X_train, y_train, cv=kf)\n",
    "\n",
    "# Print the cross-validation scores\n",
    "print(\"Cross-validation scores:\", cv_scores)\n",
    "\n",
    "# Calculate and print the mean accuracy of cross-validation\n",
    "mean_cv_accuracy = cv_scores.mean()\n",
    "print(\"\\nMean cross-validation accuracy:\", mean_cv_accuracy)"
   ]
  },
  {
   "cell_type": "code",
   "execution_count": 10,
   "id": "3eaf15bd",
   "metadata": {},
   "outputs": [],
   "source": [
    "#Observations and Comments:\n",
    "\n",
    "#1. The training data is divided into 5 folds using the KFold object, with bias prevention enabled by shuffling. \n",
    "#2. Cross_val_score, which automates the cross-validation procedure, is used to train and assess the SVM classifier.\n"
   ]
  },
  {
   "cell_type": "code",
   "execution_count": 11,
   "id": "b9331394",
   "metadata": {},
   "outputs": [
    {
     "name": "stdout",
     "output_type": "stream",
     "text": [
      "Evaluation Metrics:\n",
      "Accuracy: 0.9666666666666667\n",
      "Precision: 0.9694444444444444\n",
      "Recall: 0.9666666666666667\n",
      "F1-score: 0.9664109121909632\n",
      "\n",
      "Classification Report:\n",
      "              precision    recall  f1-score   support\n",
      "\n",
      "           0       1.00      1.00      1.00        10\n",
      "           1       1.00      0.89      0.94         9\n",
      "           2       0.92      1.00      0.96        11\n",
      "\n",
      "    accuracy                           0.97        30\n",
      "   macro avg       0.97      0.96      0.97        30\n",
      "weighted avg       0.97      0.97      0.97        30\n",
      "\n",
      "\n",
      "Best parameters: {'C': 10, 'degree': 2, 'gamma': 'scale', 'kernel': 'linear'}\n"
     ]
    }
   ],
   "source": [
    "# Step 6: Model Evaluation\n",
    "# Training the SVM classifier with the best parameters\n",
    "grid_search = GridSearchCV(svm_classifier, param_grid, cv=5)\n",
    "grid_search.fit(X_train, y_train)\n",
    "best_svm_classifier = grid_search.best_estimator_\n",
    "\n",
    "# Making predictions on the test set using the best SVM model\n",
    "y_pred = best_svm_classifier.predict(X_test)\n",
    "\n",
    "# Calculate evaluation metrics\n",
    "accuracy = accuracy_score(y_test, y_pred)\n",
    "precision = precision_score(y_test, y_pred, average='weighted')\n",
    "recall = recall_score(y_test, y_pred, average='weighted')\n",
    "f1 = f1_score(y_test, y_pred, average='weighted')\n",
    "\n",
    "# Printing evaluation metrics\n",
    "print(\"Evaluation Metrics:\")\n",
    "print(\"Accuracy:\", accuracy)\n",
    "print(\"Precision:\", precision)\n",
    "print(\"Recall:\", recall)\n",
    "print(\"F1-score:\", f1)\n",
    "\n",
    "# Print the classification report\n",
    "print(\"\\nClassification Report:\")\n",
    "print(classification_report(y_test, y_pred))\n",
    "\n",
    "# Print the best parameters found\n",
    "print(\"\\nBest parameters:\", grid_search.best_params_)"
   ]
  },
  {
   "cell_type": "code",
   "execution_count": 12,
   "id": "2a14cea4",
   "metadata": {},
   "outputs": [],
   "source": [
    "#Observations And Comments:\n",
    "#1. A variety of evaluation metrics, including accuracy, precision, recall, and F1-score, are used to assess the model's performance. \n",
    "#2. A thorough analysis of performance metrics for every class is given in the classification report. \n",
    "#3. To comprehend the ideal SVM setup, the optimum grid search parameters are printed.\n",
    "\n",
    "\n"
   ]
  },
  {
   "cell_type": "code",
   "execution_count": 13,
   "id": "28997369",
   "metadata": {},
   "outputs": [
    {
     "data": {
      "image/png": "[encoded data removed]",
      "text/plain": [
       "<Figure size 800x600 with 1 Axes>"
      ]
     },
     "metadata": {},
     "output_type": "display_data"
    }
   ],
   "source": [
    "# Calculate confusion matrix\n",
    "conf_matrix = confusion_matrix(y_test, y_pred)\n",
    "# Calculate percentages\n",
    "conf_matrix_percent = conf_matrix / conf_matrix.sum(axis=1)[:, np.newaxis] * 100\n",
    "# Plot confusion matrix with percentages\n",
    "plt.figure(figsize=(8, 6))\n",
    "sns.heatmap(conf_matrix_percent, annot=True, fmt='.2f', cmap='Blues', cbar=False)\n",
    "plt.title('Confusion Matrix (Percentages)')\n",
    "plt.xlabel('Predicted Label')\n",
    "plt.ylabel('True Label')\n",
    "plt.show()"
   ]
  },
  {
   "cell_type": "code",
   "execution_count": 14,
   "id": "827c9447",
   "metadata": {},
   "outputs": [],
   "source": [
    "#Confusion Matrix Computation: Using the confusion_matrix function from Scikit-learn's metrics module, the code precisely computes the confusion matrix. A tabular representation of the model's predictions against the actual labels is given by this matrix.\n",
    "#Normalization Percentage Calculation: The code computes the percentages for each cell following the computation of the confusion matrix. This normalization process is crucial because it makes it easier to understand how predictions are distributed among the various classes, particularly in cases where the class sizes are not equal.\n"
   ]
  },
  {
   "cell_type": "code",
   "execution_count": 15,
   "id": "4479467d",
   "metadata": {},
   "outputs": [
    {
     "data": {
      "image/png": "[encoded data removed]",
      "text/plain": [
       "<Figure size 800x600 with 1 Axes>"
      ]
     },
     "metadata": {},
     "output_type": "display_data"
    }
   ],
   "source": [
    "# Calculate accuracy for each class\n",
    "class_accuracy = []\n",
    "for i in range(len(iris.target_names)):\n",
    "    correct_preds = np.sum((y_test == i) & (y_pred == i))\n",
    "    total_samples = np.sum(y_test == i)\n",
    "    accuracy = correct_preds / total_samples\n",
    "    class_accuracy.append(accuracy)\n",
    "\n",
    "# Plot accuracy for each class\n",
    "plt.figure(figsize=(8, 6))\n",
    "plt.bar(iris.target_names, class_accuracy, color='skyblue', edgecolor='black')\n",
    "plt.title('Accuracy for Each Class')\n",
    "plt.xlabel('Class')\n",
    "plt.ylabel('Accuracy')\n",
    "plt.ylim(0, 1)  # Limit y-axis to range [0, 1]\n",
    "plt.show()"
   ]
  },
  {
   "cell_type": "code",
   "execution_count": null,
   "id": "5f9109bd",
   "metadata": {},
   "outputs": [],
   "source": [
    "#1. Class-wise Accuracy Computation: The program iterates through the dataset's classes, calculating the accuracy for each one independently. This methodology offers valuable insights into the model's performance for individual classes, which is particularly important when working with imbalanced datasets or when predicting certain classes is more difficult than others.\n",
    "#2. Bar Plot Visualization: The code generates a bar plot to show the class-wise accuracy after calculating the accuracy for each class. It is simple to evaluate the accuracy across different classes graphically when you use a bar plot. It is possible to quickly evaluate the model's performance for each class by referring to the accuracy values on the y-axis and the class names on the x-axis.\n",
    "#3. Accuracy Distribution Interpretation: The distribution is displayed in the plotted bar chart."
   ]
  }
 ],
 "metadata": {
  "kernelspec": {
   "display_name": "Python 3 (ipykernel)",
   "language": "python",
   "name": "python3"
  },
  "language_info": {
   "codemirror_mode": {
    "name": "ipython",
    "version": 3
   },
   "file_extension": ".py",
   "mimetype": "text/x-python",
   "name": "python",
   "nbconvert_exporter": "python",
   "pygments_lexer": "ipython3",
   "version": "3.11.5"
  }
 },
 "nbformat": 4,
 "nbformat_minor": 5
}
